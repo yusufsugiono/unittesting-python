{
 "cells": [
  {
   "cell_type": "markdown",
   "metadata": {},
   "source": [
    "# Unit Testing Login dan Register Sederhana dengan Python\n",
    "\n",
    "<p>Sebelum menuliskan koding login, terlebih dahulu kita pastikan telah terinstal library-library yang akan dibutuhkan. Diantaranya yaitu <code>mysql-connector</code> dan <code>unittest</code></p>"
   ]
  },
  {
   "cell_type": "code",
   "execution_count": 39,
   "metadata": {},
   "outputs": [],
   "source": [
    "import unittest\n",
    "import mysql.connector\n",
    "import hashlib"
   ]
  },
  {
   "cell_type": "markdown",
   "metadata": {},
   "source": [
    "Setelah library telah siap digunakan (ditunjukkan dengan tidak adanya error saat import), maka selanjutnya adalah membuat database terlebih dahulu. Misalnya saja databasenya kita beri nama <code>testing</code>"
   ]
  },
  {
   "cell_type": "code",
   "execution_count": null,
   "metadata": {},
   "outputs": [],
   "source": [
    "# connection to database\n",
    "db_connection = mysql.connector.connect(\n",
    "    host=\"localhost\",\n",
    "    user=\"root\",\n",
    "    passwd=\"\"\n",
    ")\n",
    "\n",
    "# creating database_cursor to perform SQL operation\n",
    "db_cursor = db_connection.cursor()\n",
    "\n",
    "# create database \n",
    "db_cursor.execute(\"CREATE DATABASE testing\")"
   ]
  },
  {
   "cell_type": "markdown",
   "metadata": {},
   "source": [
    "Kemudian di dalam database <code>testing</code> kita akan membuat sebuah tabel yang akan menampung data akun pengguna. Misalnya saja tabel ini diberi nama <code>user_login</code>"
   ]
  },
  {
   "cell_type": "code",
   "execution_count": 40,
   "metadata": {},
   "outputs": [],
   "source": [
    "# connection to database\n",
    "db_connection = mysql.connector.connect(\n",
    "    host=\"localhost\",\n",
    "    user=\"root\",\n",
    "    passwd=\"\",\n",
    "    database=\"testing\"\n",
    ")\n",
    "\n",
    "db_cursor = db_connection.cursor()\n"
   ]
  },
  {
   "cell_type": "code",
   "execution_count": 13,
   "metadata": {},
   "outputs": [],
   "source": [
    "# create table user_login\n",
    "query = \"\"\"\n",
    "    CREATE TABLE user_login (\n",
    "        id INT NOT NULL AUTO_INCREMENT,\n",
    "        fullname VARCHAR(255) NOT NULL,\n",
    "        username VARCHAR(255) NOT NULL,\n",
    "        password VARCHAR(255) NOT NULL,\n",
    "        PRIMARY KEY(id)\n",
    "    )\n",
    "\"\"\"\n",
    "db_cursor.execute(query)"
   ]
  },
  {
   "cell_type": "markdown",
   "metadata": {},
   "source": [
    "Database dan tabel telah siap, selanjutnya adalah insert data awal ke dalam tabel agar nantinya dapat dilakukan tes login"
   ]
  },
  {
   "cell_type": "code",
   "execution_count": 24,
   "metadata": {},
   "outputs": [
    {
     "name": "stdout",
     "output_type": "stream",
     "text": [
      "INSERT INTO user_login (fullname, username, password) VALUES ('Yusuf Sugiono','yusuf','dd2eb170076a5dec97cdbbbbff9a4405')\n"
     ]
    }
   ],
   "source": [
    "import mysql.connector\n",
    "import hashlib\n",
    "import unittest\n",
    "\n",
    "# connection to database\n",
    "db_connection = mysql.connector.connect(\n",
    "    host=\"localhost\",\n",
    "    user=\"root\",\n",
    "    passwd=\"\",\n",
    "    database=\"testing\"\n",
    ")\n",
    "\n",
    "db_cursor = db_connection.cursor()\n",
    "\n",
    "fullname = \"Yusuf Sugiono\"\n",
    "username = \"yusuf\"\n",
    "password = \"yusuf\"\n",
    "\n",
    "# hashing password\n",
    "password = hashlib.md5(password.encode())\n",
    "password = password.hexdigest()\n",
    "\n",
    "query = \"INSERT INTO user_login (fullname, username, password) VALUES ('\" + fullname + \"','\" + username + \"','\" + password + \"')\"\n",
    "\n",
    "db_cursor.execute(query)\n",
    "print(query)"
   ]
  },
  {
   "cell_type": "markdown",
   "metadata": {},
   "source": [
    "Dari eksekusi kueri di atas, maka anggap saja kita telah memiliki sebuah akun dengan id 1, milik Yusuf Sugiono dengan username <code>yusuf</code> dan password <code>yusuf</code>. Kemudian kita coba membuat fungsi untuk login dan mengujinya dengan unittest"
   ]
  },
  {
   "cell_type": "code",
   "execution_count": 54,
   "metadata": {},
   "outputs": [
    {
     "name": "stderr",
     "output_type": "stream",
     "text": [
      "testlogin1 (__main__.TestLogin) ... ok\n",
      "testlogin2 (__main__.TestLogin) ... ok\n",
      "testlogin3 (__main__.TestLogin) ... ok\n",
      "testlogin4 (__main__.TestLogin) ... ok\n",
      "\n",
      "----------------------------------------------------------------------\n",
      "Ran 4 tests in 0.054s\n",
      "\n",
      "OK\n"
     ]
    }
   ],
   "source": [
    "import mysql.connector\n",
    "import hashlib\n",
    "import unittest\n",
    "\n",
    "# connection to database\n",
    "db_connection = mysql.connector.connect(\n",
    "    host=\"localhost\",\n",
    "    user=\"root\",\n",
    "    passwd=\"\",\n",
    "    database=\"testing\"\n",
    ")\n",
    "\n",
    "db_cursor = db_connection.cursor()\n",
    "\n",
    "class TestLogin(unittest.TestCase):\n",
    "    def testlogin1(self):\n",
    "        username = 'yusuf'\n",
    "        password = 'yusuf'\n",
    "        md5pass = hashlib.md5(password.encode())\n",
    "        md5pass = md5pass.hexdigest()\n",
    "        query = \"SELECT * FROM user_login WHERE username='\" + username + \"' AND password='\" + md5pass + \"'\"\n",
    "        db_cursor.execute(query)\n",
    "        db_cursor.fetchall()\n",
    "        self.assertEqual(db_cursor.rowcount, 1)\n",
    "\n",
    "    def testlogin2(self):\n",
    "        username = 'yusuf'\n",
    "        password = 'yusup'\n",
    "        md5pass = hashlib.md5(password.encode())\n",
    "        md5pass = md5pass.hexdigest()\n",
    "        query = \"SELECT * FROM user_login WHERE username='\" + username + \"' AND password='\" + md5pass + \"'\"\n",
    "        db_cursor.execute(query)\n",
    "        db_cursor.fetchall()\n",
    "        self.assertEqual(db_cursor.rowcount, 0)\n",
    "        \n",
    "    def testlogin3(self):\n",
    "        username = 'yusup'\n",
    "        password = 'yusuf'\n",
    "        md5pass = hashlib.md5(password.encode())\n",
    "        md5pass = md5pass.hexdigest()\n",
    "        query = \"SELECT * FROM user_login WHERE username='\" + username + \"' AND password='\" + md5pass + \"'\"\n",
    "        db_cursor.execute(query)\n",
    "        db_cursor.fetchall()\n",
    "        self.assertEqual(db_cursor.rowcount, 0)\n",
    "    \n",
    "    def testlogin4(self):\n",
    "        username = 'novita'\n",
    "        password = 'anggraini'\n",
    "        md5pass = hashlib.md5(password.encode())\n",
    "        md5pass = md5pass.hexdigest()\n",
    "        query = \"SELECT * FROM user_login WHERE username='\" + username + \"' AND password='\" + md5pass + \"'\"\n",
    "        db_cursor.execute(query)\n",
    "        db_cursor.fetchall()\n",
    "        self.assertEqual(db_cursor.rowcount, 0)\n",
    "        \n",
    "if __name__ == '__main__':\n",
    "    unittest.main(argv=[''], verbosity=2, exit=False)\n",
    "    \n",
    "akun = TestLogin()"
   ]
  },
  {
   "cell_type": "markdown",
   "metadata": {},
   "source": [
    "Dari hasil testing diatas, maka kode sudah bekerja dengan baik untuk mencocokkan data username dan password yang ada di database"
   ]
  }
 ],
 "metadata": {
  "kernelspec": {
   "display_name": "Python 3",
   "language": "python",
   "name": "python3"
  },
  "language_info": {
   "codemirror_mode": {
    "name": "ipython",
    "version": 3
   },
   "file_extension": ".py",
   "mimetype": "text/x-python",
   "name": "python",
   "nbconvert_exporter": "python",
   "pygments_lexer": "ipython3",
   "version": "3.8.3"
  }
 },
 "nbformat": 4,
 "nbformat_minor": 4
}
